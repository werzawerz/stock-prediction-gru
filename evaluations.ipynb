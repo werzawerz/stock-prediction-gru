{
  "nbformat": 4,
  "nbformat_minor": 0,
  "metadata": {
    "kernelspec": {
      "language": "python",
      "display_name": "Python 3",
      "name": "python3"
    },
    "language_info": {
      "pygments_lexer": "ipython3",
      "nbconvert_exporter": "python",
      "version": "3.6.4",
      "file_extension": ".py",
      "codemirror_mode": {
        "name": "ipython",
        "version": 3
      },
      "name": "python",
      "mimetype": "text/x-python"
    },
    "colab": {
      "name": "evaluations.ipynb",
      "provenance": []
    }
  },
  "cells": [
    {
      "cell_type": "markdown",
      "metadata": {
        "id": "JbAbXZMq_LtC"
      },
      "source": [
        "Ezen notebookban bemutatásra kerül, a GRU modell által prediktált adatok feldolgozása. Ehhez 3 technika van kidolgozva:\n",
        "\n",
        "\n",
        "1.   Minden modellt követünk. Ha a következő napra magasabb értéket prediktál mint előző napra, akkor veszünk/megtartjuk a részvényt, ha pedig esik akkor eladunk,vagy ha nincs birtokunkban akkor távol maradunk a vételtől.\n",
        "2.   Arányosan vásároljuk a részvényt, a 10 modellből minél több szerint nőni fog, annál többet veszünk (természetesen ez ugyanúgy igaz eladásnál is).\n",
        "3.   Csak az eddig legjobban teljesítő K részvényt vesszük figyelmbe.\n",
        "\n",
        "\n",
        "# 0. Adatelőkészítés\n",
        "\n",
        "Legelső lépésben az adatok feldolgozása történik, és olyan formába alakítása, mely számunkra megfelelő. Mivel ennek menete a gru_stocks.ipynb-be már megtalálható, így itt ez nincs részletezve.\n"
      ]
    },
    {
      "cell_type": "code",
      "metadata": {
        "_uuid": "8f2839f25d086af736a60e9eeb907d3b93b6e0e5",
        "_cell_guid": "b1076dfc-b9ad-4769-8c92-a6c4dae69d19",
        "trusted": true,
        "id": "8k5B148f_Jh-"
      },
      "source": [
        "import numpy as np\n",
        "import matplotlib.pyplot as plt\n",
        "import pandas as pd\n",
        "import os\n",
        "from sklearn.preprocessing import MinMaxScaler"
      ],
      "execution_count": null,
      "outputs": []
    },
    {
      "cell_type": "code",
      "metadata": {
        "trusted": true,
        "id": "1AHoUa78_JiB"
      },
      "source": [
        "df = pd.read_csv(os.path.join('../input/price-volume-data-for-all-us-stocks-etfs/Stocks','gm.us.txt'),delimiter=',',usecols=['Date','Open','High','Low','Close'])\n",
        "print('Loaded data from the Kaggle repository')\n",
        "\n",
        "df.head()"
      ],
      "execution_count": null,
      "outputs": []
    },
    {
      "cell_type": "code",
      "metadata": {
        "trusted": true,
        "id": "kPZQN4vQ_JiC"
      },
      "source": [
        "df = df[df['Date'].str.contains(\"2012\") | df['Date'].str.contains(\"2013\") | df['Date'].str.contains(\"2014\") | df['Date'].str.contains(\"2015\") | df['Date'].str.contains(\"2016\") ]\n",
        "df.head()"
      ],
      "execution_count": null,
      "outputs": []
    },
    {
      "cell_type": "code",
      "metadata": {
        "trusted": true,
        "id": "sfU4Qe0x_JiC"
      },
      "source": [
        "TEST_INTERVAL = 200\n",
        "TIMESTAMP = 50\n",
        "NUM_OF_RUNS = 10"
      ],
      "execution_count": null,
      "outputs": []
    },
    {
      "cell_type": "code",
      "metadata": {
        "trusted": true,
        "id": "Gkwr7pkb_JiD"
      },
      "source": [
        "high_prices = df.loc[:,'High'].to_numpy()\n",
        "low_prices = df.loc[:,'Low'].to_numpy()\n",
        "mid_prices = (high_prices+low_prices)/2.0\n",
        "\n",
        "print(mid_prices)\n",
        "\n",
        "data_num = len(mid_prices)\n",
        "data_num_train = data_num - TEST_INTERVAL\n",
        "train_data = mid_prices[:data_num_train]\n",
        "test_data = mid_prices[data_num_train-TIMESTAMP:]"
      ],
      "execution_count": null,
      "outputs": []
    },
    {
      "cell_type": "code",
      "metadata": {
        "trusted": true,
        "id": "0COji7nK_JiE"
      },
      "source": [
        "sc = MinMaxScaler(feature_range = (0, 1))\n",
        "train_data = train_data.reshape(-1,1)\n",
        "train_data_scaled = sc.fit_transform(train_data)"
      ],
      "execution_count": null,
      "outputs": []
    },
    {
      "cell_type": "code",
      "metadata": {
        "trusted": true,
        "id": "kBd3KxFs_JiE"
      },
      "source": [
        "X_train = []\n",
        "y_train = []\n",
        "for i in range(TIMESTAMP, data_num_train):\n",
        "    X_train.append(train_data_scaled[i-TIMESTAMP:i, 0])\n",
        "    y_train.append(train_data_scaled[i, 0])\n",
        "X_train, y_train = np.array(X_train), np.array(y_train)\n",
        "\n",
        "X_train = np.reshape(X_train, (X_train.shape[0], X_train.shape[1], 1))\n",
        "\n",
        "real_stock_price = test_data[TIMESTAMP:]\n",
        "predicted_stock_prices = np.zeros((NUM_OF_RUNS,TEST_INTERVAL))"
      ],
      "execution_count": null,
      "outputs": []
    },
    {
      "cell_type": "code",
      "metadata": {
        "trusted": true,
        "id": "4D3IRim2_JiF"
      },
      "source": [
        "predicted_stock_prices = np.loadtxt(os.path.join('../input/stock-predictions-gru','gm_pred.csv'), delimiter=\",\")"
      ],
      "execution_count": null,
      "outputs": []
    },
    {
      "cell_type": "code",
      "metadata": {
        "trusted": true,
        "id": "KAGlMZw1_JiF"
      },
      "source": [
        "real_stock_price_profit_per_day = []\n",
        "for i in range(1, TEST_INTERVAL):\n",
        "    real_stock_price_profit_per_day.append((real_stock_price[i] - real_stock_price[0])/real_stock_price[0] * 100)\n",
        "    \n",
        "predicted_stock_price_profits_per_day = [[0 for j in range(TEST_INTERVAL)] for i in range(NUM_OF_RUNS)]"
      ],
      "execution_count": null,
      "outputs": []
    },
    {
      "cell_type": "code",
      "metadata": {
        "trusted": true,
        "id": "vDn9zB2Y_JiG"
      },
      "source": [
        "avg_profit = 0"
      ],
      "execution_count": null,
      "outputs": []
    },
    {
      "cell_type": "markdown",
      "metadata": {
        "id": "TH8O-q7aA8YP"
      },
      "source": [
        "# 1. technika\n",
        "\n",
        "Az első technika során minden egyes modell predikcióját feldolgozzuk külön, külön. Ha a következő napra magasabb értéket prediktál a modell mint előző napra, akkor veszünk/megtartjuk a részvényt, ha pedig esik akkor eladunk,(vagy ha nincs birtokunkban akkor távol maradunk a vételtől). \n",
        "\n",
        "A következő táblázat mutatja az így kapott eredményeket 11 különböző részvény függvényében:\n",
        "\n",
        "<a href=\"https://ibb.co/pyMHLVk\"><img src=\"https://i.ibb.co/tXv0Jj1/image.png\" alt=\"image\" border=\"0\"></a>\n",
        "\n",
        "Látható, hogy 11 részvényből 7 esetben értünk el, jobb eredményt adott idő alatt, mint a részvény valódi növekedése. Tipikusan, azon részvények esetében volt gyengébb a modell predikciója, mint valódi esetben, amikor a részvény rövid idő alatt nagyon nagyott nőtt, viszont veszteség vagy kicsit növekvő részvények esetében, jobb eredményt érhettünk el a modell segítségével, mint a valódi növekedés. \n",
        "\n",
        "A következő ábra szemlélteti egy részvény, nevezetesen a Netflix, növekedését, és az egyes modellek profitjait külön-külön:\n",
        "\n",
        "<a href=\"https://imgbb.com/\"><img src=\"https://i.ibb.co/3RmYHT8/image.png\" alt=\"image\" border=\"0\"></a>\n",
        "\n",
        "A fekete vonal reprezentálja a részvény valódi növekedését. Itt is látható, hogy amíg a részvény veszteséges, minden predikció jobban teljesít a részvény valódi profitjához képest, ugyanakkor a hirtelen növekedés után több modell is az eladás/tartózkodás mellett dönt, így végső soron a 10 modell közül 3 rosszabbul teljesít, mint a valódi növekedés, és 7 pedig jobban. \n",
        "\n",
        "Végső soron, a fenti adatok arra engednek következtetni, hogy a modellünk segítségével stabil, kevésbé volatilis részvényekbe való befektetéssel, jobb eredményeket is elérhetünk, mint a valódi növekedés."
      ]
    },
    {
      "cell_type": "code",
      "metadata": {
        "trusted": true,
        "id": "0S4YLtAN_JiG"
      },
      "source": [
        "def calculateProfit(diffStock):\n",
        "    all_profit = 0\n",
        "    min_profit = 10000000\n",
        "    max_profit = -10000000\n",
        "    for j in range(NUM_OF_RUNS):\n",
        "        print(j, \" RUN\")\n",
        "        predicted_stock_price = predicted_stock_prices[j]\n",
        "        original_stock_price = real_stock_price[0]\n",
        "\n",
        "        bought_stock_price = real_stock_price[0]\n",
        "        stock_price_at_selling = 0\n",
        "        stock_buys_total = real_stock_price[0]\n",
        "        stock_sells_total = 0\n",
        "        profit = 0\n",
        "\n",
        "        for i in range(1, TEST_INTERVAL):\n",
        "            if(predicted_stock_price[i]>diffStock[i-1]):\n",
        "                if(bought_stock_price==0):\n",
        "                  print(\"Buying at \", i, \" day:\", real_stock_price[i])\n",
        "                  bought_stock_price = real_stock_price[i]\n",
        "                  stock_buys_total = stock_buys_total + real_stock_price[i]\n",
        "            else:\n",
        "                if(bought_stock_price!=0):\n",
        "                  print(\"Selling at \", i, \" day:\", real_stock_price[i], \"     We made:\", real_stock_price[i]-bought_stock_price)\n",
        "                  bought_stock_price = 0\n",
        "                  stock_price_at_selling = real_stock_price[i]\n",
        "                  stock_sells_total = stock_sells_total + real_stock_price[i]\n",
        "            profit = stock_sells_total - stock_buys_total\n",
        "            if(bought_stock_price==0):\n",
        "                predicted_stock_price_profits_per_day[j][i] = (profit)/original_stock_price * 100\n",
        "            else:\n",
        "                predicted_stock_price_profits_per_day[j][i] = (profit+real_stock_price[i])/original_stock_price * 100\n",
        "\n",
        "        print(\"Money spent on buying:\", stock_buys_total)    \n",
        "        print(\"Money received on selling:\", stock_sells_total) \n",
        "        print(\"cash profit:\", profit)\n",
        "        print(\"actual stock price:\", real_stock_price[TEST_INTERVAL-1]) \n",
        "\n",
        "        if(bought_stock_price==0):\n",
        "            print(\"We made \", profit, \" from \", original_stock_price)\n",
        "            act_profit = (profit)/original_stock_price * 100\n",
        "            print(\"Profit:\", act_profit, \"%\")\n",
        "            all_profit = all_profit + act_profit\n",
        "            if(act_profit>max_profit):\n",
        "                max_profit = act_profit\n",
        "            if(act_profit<min_profit):\n",
        "                min_profit = act_profit\n",
        "            print(\"Stock growth:\", real_stock_price[TEST_INTERVAL-1], \" \", (real_stock_price[TEST_INTERVAL-1] - original_stock_price)/original_stock_price * 100, \"%\")\n",
        "        else:\n",
        "            print(\"We made \", profit+real_stock_price[TEST_INTERVAL-1], \" from \", original_stock_price)\n",
        "            act_profit = (profit+real_stock_price[TEST_INTERVAL-1])/original_stock_price * 100\n",
        "            print(\"Profit:\", (profit+real_stock_price[TEST_INTERVAL-1])/original_stock_price * 100, \"%\")\n",
        "            all_profit = all_profit + act_profit\n",
        "            if(act_profit>max_profit):\n",
        "                max_profit = act_profit\n",
        "            if(act_profit<min_profit):\n",
        "                min_profit = act_profit\n",
        "            print(\"Stock growth:\", real_stock_price[TEST_INTERVAL-1], \" \", (real_stock_price[TEST_INTERVAL-1] - original_stock_price)/original_stock_price * 100, \"%\")\n",
        "        print(\" \")\n",
        "        print(\" \")\n",
        "        print(\" \")\n",
        "        print(\" \")\n",
        "        print(\" \")\n",
        "        print(\" \")\n",
        "    avg_profit = all_profit / NUM_OF_RUNS \n",
        "    \n",
        "    print(\"AVG profit:\", avg_profit)\n",
        "    print(\"MAX profit:\", max_profit)\n",
        "    print(\"MIN profit:\", min_profit)"
      ],
      "execution_count": null,
      "outputs": []
    },
    {
      "cell_type": "markdown",
      "metadata": {
        "id": "O2MkgxImFhUG"
      },
      "source": [
        "# 2. technika\n",
        "\n",
        "A második technika során a modellek együttes predikcióját vesszük figyelmbe, azaz azt, hogy a 10 modell közül, hány szerint fog nőni és hány szerint fog csökkeni másnapra a részvény értéke. Ehhez a következő metrikákat határoztam meg:\n",
        "\n",
        "\n",
        "*   SUPER_STRONG_SELL : Ha 0 vagy 1 modell prediktálja a növekedést, akkor nagyon nagy mértékű eladást végzünk\n",
        "*   STRONG_SELL : Ha 2 vagy 3 modell prediktálja a növekedést akkor nagy mértékű eladást végzünk\n",
        "*   SELL : Ha 4 modell prediktálja a növekedést, akkor eladást végzünk\n",
        "*   STALL : Ha fele-fele arányban van prediktálva a növekedés és csökkenés, akkor nem csinálunk semmit\n",
        "*   BUY : Ha 6 modell prediktálja a növekedést, akkor vásárolunk\n",
        "*   STRONG_BUY : Ha 7 vagy 8, akkor nagy mértékben vásárolunk\n",
        "*   SUPER_STRONG_BUY : Ha 9 vagy 10, akkor nagyon nagy mértékben vásárolunk\n",
        "\n",
        "A sima, STRONG és SUPER_STRONG következő értékeire van részletesen dokumentálva az eredmény : 0.03/0.06/0.10 (kisebb arányú változtatás), 0.01/0.05/0.20 (nagyobb arányú). Kikötjük ezen kívúl, hogy egy részvényből legfeljebb 1 egységünk lehet, s eladásnál nem mehetünk 0 alá (shortolást nem végzünk). Az alábbi táblázat mutatja az így kapott eredményeket:\n",
        "\n",
        "<a href=\"https://ibb.co/PNhCQSW\"><img src=\"https://i.ibb.co/hyW8fqd/image.png\" alt=\"image\" border=\"0\"></a>\n",
        "\n",
        "Látható, hogy a 11 részvényből 8 eseténél profitot sikerült elérni a nagyobb mértékű arányosítással (0.01, 0.05, 0.20) a valódi növekedéshez képest, míg a gyengébb arányosításnál 7 esetben sikerült a profit (Netflix a kivétel). Ugyanakkor a gyengébb arányosítással (0.03/0.06/0.10) 7 esetben jobb eredményt értünk el, mint az erős arányosítással, és csak 4 esetben rosszabbat. \n",
        "\n",
        "Végső soron, további elemzésre, optimalizálásra lehet szükség, ahhoz, hogy el tudjuk dönteni, hogy mik a legoptimálisabb arányok. Ugyanakkor látható, hogy nagyobb profitot tudtunk itt elérni, mint az első esetben.\n",
        "\n"
      ]
    },
    {
      "cell_type": "code",
      "metadata": {
        "trusted": true,
        "id": "9lIgM8wk_JiI"
      },
      "source": [
        "def calculateProfitUsingAll(diffStock, NORMAL_BUY_SELL, STRONG_BUY_SELL, SUPER_STRONG_BUY_SELL):\n",
        "    STOCK_CAP = 100\n",
        "    SUPER_STRONG_SELL_MIN = 0\n",
        "    STRONG_SELL_MIN = 2\n",
        "    SELL_MIN = 4\n",
        "    STALL_MIN = 5\n",
        "    BUY_MIN = 6\n",
        "    STRONG_BUY_MIN = 7\n",
        "    SUPER_STRONG_BUY_MIN = 9\n",
        "    \n",
        "    bought_stocks = STOCK_CAP//4\n",
        "    money_spent = bought_stocks * real_stock_price[0]\n",
        "    money_received = 0\n",
        "    profits_per_day = []\n",
        "    for i in range(1, TEST_INTERVAL):\n",
        "        BUY_PRED_NUM = 0\n",
        "        for j in range(NUM_OF_RUNS):\n",
        "            predicted_stock_price = predicted_stock_prices[j][i]\n",
        "            if(predicted_stock_price>diffStock[i-1]):\n",
        "                BUY_PRED_NUM = BUY_PRED_NUM + 1\n",
        "        if(BUY_PRED_NUM<STRONG_SELL_MIN):\n",
        "            if(bought_stocks > 0):\n",
        "                if(bought_stocks > SUPER_STRONG_BUY_SELL):\n",
        "                    bought_stocks = bought_stocks - SUPER_STRONG_BUY_SELL\n",
        "                    money_received = money_received + SUPER_STRONG_BUY_SELL * real_stock_price[i]\n",
        "                    print(i, \". day: SUPER STRONG SELL. We sold \", SUPER_STRONG_BUY_SELL, \" stocks. Current stock number:\", bought_stocks)\n",
        "                else:\n",
        "                    bs_temp = bought_stocks\n",
        "                    bought_stocks = bought_stocks - bs_temp\n",
        "                    money_received = money_received + bs_temp * real_stock_price[i]\n",
        "                    print(i, \". day: SUPER STRONG SELL. We sold \", bs_temp, \" stocks. Current stock number:\", bought_stocks)\n",
        "        elif(BUY_PRED_NUM<SELL_MIN):\n",
        "            if(bought_stocks > 0):\n",
        "                if(bought_stocks > STRONG_BUY_SELL):\n",
        "                    bought_stocks = bought_stocks - STRONG_BUY_SELL\n",
        "                    money_received = money_received + STRONG_BUY_SELL * real_stock_price[i]\n",
        "                    print(i, \". day: STRONG SELL. We sold \", STRONG_BUY_SELL, \" stocks. Current stock number:\", bought_stocks)\n",
        "                else:\n",
        "                    bs_temp = bought_stocks\n",
        "                    bought_stocks = bought_stocks - bs_temp\n",
        "                    money_received = money_received + bs_temp * real_stock_price[i]\n",
        "                    print(i, \". day: STRONG SELL. We sold \", bs_temp, \" stocks. Current stock number:\", bought_stocks)\n",
        "        elif(BUY_PRED_NUM<STALL_MIN):\n",
        "            if(bought_stocks > 0):\n",
        "                bought_stocks = bought_stocks - NORMAL_BUY_SELL\n",
        "                money_received = money_received + NORMAL_BUY_SELL * real_stock_price[i]\n",
        "                print(i, \". day: SELL. We sold \", NORMAL_BUY_SELL,\" stock. Current stock number:\", bought_stocks)\n",
        "        elif(BUY_PRED_NUM<BUY_MIN):\n",
        "            print(i, \". day: STALL. Current stock number:\", bought_stocks)\n",
        "        elif(BUY_PRED_NUM<STRONG_BUY_MIN):\n",
        "            if(bought_stocks < STOCK_CAP):\n",
        "                bought_stocks = bought_stocks + NORMAL_BUY_SELL\n",
        "                money_spent = money_spent + NORMAL_BUY_SELL * real_stock_price[i]\n",
        "                print(i, \". day: BUY. We bought \", NORMAL_BUY_SELL,\" stock. Current stock number:\", bought_stocks)\n",
        "        elif(BUY_PRED_NUM<SUPER_STRONG_BUY_MIN):\n",
        "            if(bought_stocks < STOCK_CAP):\n",
        "                stocks_to_cap = STOCK_CAP - bought_stocks\n",
        "                if(stocks_to_cap < STRONG_BUY_SELL):\n",
        "                    bought_stocks = bought_stocks + stocks_to_cap\n",
        "                    money_spent = money_spent + stocks_to_cap * real_stock_price[i]\n",
        "                    print(i, \". day: BUY. We bought \", stocks_to_cap, \" stock. Current stock number:\", bought_stocks)\n",
        "                else:\n",
        "                    bought_stocks = bought_stocks + STRONG_BUY_SELL\n",
        "                    money_spent = money_spent + STRONG_BUY_SELL * real_stock_price[i]\n",
        "                    print(i, \". day: STRONG BUY. We bought\", STRONG_BUY_SELL, \" stock. Current stock number:\", bought_stocks)\n",
        "        else:\n",
        "            if(bought_stocks < STOCK_CAP):\n",
        "                stocks_to_cap = STOCK_CAP - bought_stocks\n",
        "                if(stocks_to_cap < SUPER_STRONG_BUY_SELL):\n",
        "                    bought_stocks = bought_stocks + stocks_to_cap\n",
        "                    money_spent = money_spent + stocks_to_cap * real_stock_price[i]\n",
        "                    print(i, \". day: BUY. We bought \", stocks_to_cap, \" stock. Current stock number:\", bought_stocks)\n",
        "                else:\n",
        "                    bought_stocks = bought_stocks + SUPER_STRONG_BUY_SELL\n",
        "                    money_spent = money_spent + SUPER_STRONG_BUY_SELL * real_stock_price[i]\n",
        "                    print(i, \". day: SUPER STRONG BUY. We bought\", SUPER_STRONG_BUY_SELL, \" stock. Current stock number:\", bought_stocks) \n",
        "        profits_per_day.append((((real_stock_price[i]*bought_stocks + money_received)/money_spent) - 1)*100)\n",
        "    print(\"Money spent on buying:\", money_spent)\n",
        "    print(\"Money received on selling:\", money_received)\n",
        "    print(\"Current money in our stocks:\", real_stock_price[TEST_INTERVAL-1]*bought_stocks)\n",
        "    print(\"Total profit:\", (((real_stock_price[TEST_INTERVAL-1]*bought_stocks + money_received - money_spent)/(STOCK_CAP*real_stock_price[0])))*100, \"%\")\n",
        "    return profits_per_day\n",
        "            "
      ],
      "execution_count": null,
      "outputs": []
    },
    {
      "cell_type": "markdown",
      "metadata": {
        "id": "Qp_gfg15JZOy"
      },
      "source": [
        "# 3. technika\n",
        "\n",
        "A harmadik technika alapvetése az, hogy amelyik modell eddig jó profitot hozott, az a továbbiakban is nyereséges lesz. Ezért, nem szükséges az összes modellt figyelni, elég csupán azokat, amelyek eddig is a legjobb profitot hozták. \n",
        "\n",
        "Ez a technika 2 esetre van dokumentálva: ha csak a legjobb modeltt vesszük, valamint ha a 3 legjobbat vesszük, és ha legalább 2 növekedést/csökkenést mond akkor veszünk/eladunk. Az így kapott eredményeket az alábbi táblázáat mutatja:\n",
        "\n",
        "<a href=\"https://ibb.co/jHGrJ9d\"><img src=\"https://i.ibb.co/x3G7FKy/image.png\" alt=\"image\" border=\"0\"></a>\n",
        "\n",
        "Látható, hogy 11 esetből 9szer nyereségek voltunk a valódi növekedéshez képest TOP1 esetben, és 8szor TOP3 esetben (Apple a kivétel). Ezen kívűl 7szer jobban teljesített a TOP1, mint a TOP3, így azt is elmondhatjuk, hogy ezen a teszthalmazon jobban teljesített a TOP1 mint a TOP3.\n",
        "\n",
        "Végső soron, azt láthatjuk be, hogy a 3. technika teljesített a legjobban, ezen belül pedig az az eset, amikor csak az eddigi legjobb modellt vesszük figyelembe."
      ]
    },
    {
      "cell_type": "code",
      "metadata": {
        "trusted": true,
        "id": "ZINcMnd9_JiL"
      },
      "source": [
        "def calculateProfitTopN(diffStock, N):\n",
        "    money_spent = real_stock_price[0]\n",
        "    money_received = 0\n",
        "    bought_stocks = 1\n",
        "    bought_stock_price = real_stock_price[0]\n",
        "    profit = 0\n",
        "    original_stock_price = real_stock_price[0]\n",
        "    for i in range(1, TEST_INTERVAL):\n",
        "        np_predicted_stock_price_profits_per_day = np.array(predicted_stock_price_profits_per_day)\n",
        "        profits_per_run = np_predicted_stock_price_profits_per_day[:,i]\n",
        "        profits_per_run_idxs = np.argsort(profits_per_run)[::-1]\n",
        "        best_idxs = profits_per_run_idxs[:N]\n",
        "        should_buy = 0\n",
        "        for j in best_idxs:\n",
        "            predicted_stock_price = predicted_stock_prices[j]\n",
        "            if(predicted_stock_price[i]>diffStock[i-1]):\n",
        "                should_buy = should_buy + 1\n",
        "            else:\n",
        "                should_buy = should_buy - 1\n",
        "        if(bought_stocks<1 and should_buy>0):\n",
        "            print(\"Buying at \", i, \" day:\", real_stock_price[i])\n",
        "            bought_stocks = bought_stocks + 1\n",
        "            money_spent = money_spent + real_stock_price[i]\n",
        "            bought_stock_price = real_stock_price[i]\n",
        "        elif(bought_stocks>0 and not should_buy>0):\n",
        "            print(\"Selling at \", i, \" day:\", real_stock_price[i], \"     We made:\", real_stock_price[i]-bought_stock_price)\n",
        "            bought_stocks = bought_stocks - 1\n",
        "            money_received = money_received + real_stock_price[i]\n",
        "        profit = money_received - money_spent\n",
        "    print(\"Money spent on buying:\", money_spent)\n",
        "    print(\"Money received on selling:\", money_received)\n",
        "    print(\"Current money in our stocks:\", real_stock_price[TEST_INTERVAL-1]*bought_stocks)\n",
        "    print(\"cash profit:\", profit)\n",
        "    if(bought_stocks==0):\n",
        "            print(\"We made \", profit, \" from \", original_stock_price)\n",
        "            act_profit = (profit)/original_stock_price * 100\n",
        "            print(\"Profit:\", act_profit, \"%\")\n",
        "    else:\n",
        "            print(\"We made \", profit+real_stock_price[TEST_INTERVAL-1], \" from \", original_stock_price)\n",
        "            act_profit = (profit+real_stock_price[TEST_INTERVAL-1])/original_stock_price * 100\n",
        "            print(\"Profit:\", (profit+real_stock_price[TEST_INTERVAL-1])/original_stock_price * 100, \"%\")\n",
        "       "
      ],
      "execution_count": null,
      "outputs": []
    },
    {
      "cell_type": "code",
      "metadata": {
        "trusted": true,
        "id": "agp6eDRD_JiM"
      },
      "source": [
        "print(\"Comparing to real stock price:\")\n",
        "calculateProfit(real_stock_price)"
      ],
      "execution_count": null,
      "outputs": []
    },
    {
      "cell_type": "code",
      "metadata": {
        "trusted": true,
        "id": "mm2B582w_JiN"
      },
      "source": [
        "profits_per_day_by_all = []\n",
        "profits_per_day_by_all = calculateProfitUsingAll(real_stock_price, 1, 5, 20)"
      ],
      "execution_count": null,
      "outputs": []
    },
    {
      "cell_type": "code",
      "metadata": {
        "trusted": true,
        "id": "lgaU6ANH_JiN"
      },
      "source": [
        "profits_per_day_by_all = calculateProfitUsingAll(real_stock_price, 3, 6, 10)"
      ],
      "execution_count": null,
      "outputs": []
    },
    {
      "cell_type": "code",
      "metadata": {
        "trusted": true,
        "id": "TByZDpz6_JiN"
      },
      "source": [
        "calculateProfitTopN(real_stock_price, 1)"
      ],
      "execution_count": null,
      "outputs": []
    },
    {
      "cell_type": "code",
      "metadata": {
        "trusted": true,
        "id": "WADo2h4T_JiN"
      },
      "source": [
        "plt.figure(figsize = (18,9))\n",
        "for i in range(NUM_OF_RUNS):\n",
        "    plt.plot(predicted_stock_price_profits_per_day[i], color = np.random.rand(3,)\n",
        "             , label = 'Stock Price Profit Prediction ' + str(i))\n",
        "plt.plot(real_stock_price_profit_per_day, color = 'black', label = 'Stock Price Profit')\n",
        "#plt.plot(profits_per_day_by_all, color = 'red', label = 'Profits by using all')\n",
        "plt.title('Stock Price Profit Per Day')\n",
        "plt.xlabel('Time')\n",
        "plt.ylabel('Profit')\n",
        "plt.legend()\n",
        "plt.show()"
      ],
      "execution_count": null,
      "outputs": []
    },
    {
      "cell_type": "code",
      "metadata": {
        "trusted": true,
        "id": "_W1SPjuW_JiO"
      },
      "source": [
        "calculateProfitUsingAll(real_stock_price)"
      ],
      "execution_count": null,
      "outputs": []
    }
  ]
}