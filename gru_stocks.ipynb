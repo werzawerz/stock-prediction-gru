{
  "nbformat": 4,
  "nbformat_minor": 0,
  "metadata": {
    "kernelspec": {
      "language": "python",
      "display_name": "Python 3",
      "name": "python3"
    },
    "language_info": {
      "pygments_lexer": "ipython3",
      "nbconvert_exporter": "python",
      "version": "3.6.4",
      "file_extension": ".py",
      "codemirror_mode": {
        "name": "ipython",
        "version": 3
      },
      "name": "python",
      "mimetype": "text/x-python"
    },
    "colab": {
      "name": "gru-stocks.ipynb",
      "provenance": [],
      "collapsed_sections": []
    }
  },
  "cells": [
    {
      "cell_type": "markdown",
      "metadata": {
        "id": "iIEgdJP_jI1J"
      },
      "source": [
        "# Idősoros előrejelzés gépi tanulási alapokon\n",
        "## Tőzsdei előrejelzés\n",
        "\n",
        "Az idősoros előrejelzés célja, hogy prediktáljunk jövőbeli adatokat múltbeli adatok alapján. Jelen önálló laboratórium munka során, tőzsdei előrejelzésekhez lettek készítve modellek, majd az így kapott eredmények vannak feldolgozva, minnél jobb tőzsdei technika kidolgozásához. A tőzsdei előrejelzéseket felbonthatjuk két csoportba : rövid- és hoszzú távó előrejelzések. Jelen dolgozat során rövid távú előrejelzéseket végzünk, arra vonatkozóan, hogy egy adott részvény esetén, az elkövetkezendő nap nőni vagy esni fog a részvény értéke.\n",
        "\n",
        "A modellek elkészítéséhez és a kiértékelés megírásához python nyelvet használtam, mivel a beépített API-k nagy mértékben megkönnyítik a deep learning modellek felépítését (a Tensorflow és Keras felelős ezekért), valamint az eredmények vizuális prezentációját (ehhez például a matplotlib nyújtott sok segítséget).\n",
        "\n"
      ]
    },
    {
      "cell_type": "code",
      "metadata": {
        "_uuid": "8f2839f25d086af736a60e9eeb907d3b93b6e0e5",
        "_cell_guid": "b1076dfc-b9ad-4769-8c92-a6c4dae69d19",
        "trusted": true,
        "id": "lZF7DtUpjICE"
      },
      "source": [
        "import numpy as np\n",
        "import matplotlib.pyplot as plt\n",
        "import pandas as pd\n",
        "import os\n",
        "from sklearn.preprocessing import MinMaxScaler"
      ],
      "execution_count": null,
      "outputs": []
    },
    {
      "cell_type": "markdown",
      "metadata": {
        "id": "CFelYQ6QmKfz"
      },
      "source": [
        "A felhasznált adathalmaz a kaggle-n található Huge Stock Market Database. (https://www.kaggle.com/borismarjanovic/price-volume-data-for-all-us-stocks-etfs)\n",
        "\n",
        "Ez az adathalmaz több mint hétezer részvény historikus adatait tárolja napi bontásban. Minden munkanapra megtalálható a részvény nyitó, záró, legalacsonyabb és legmagasabb ára. "
      ]
    },
    {
      "cell_type": "code",
      "metadata": {
        "trusted": true,
        "id": "Bdl7nH1jjICN"
      },
      "source": [
        "df = pd.read_csv(os.path.join('../input/price-volume-data-for-all-us-stocks-etfs/Stocks','cl.us.txt'),delimiter=',',usecols=['Date','Open','High','Low','Close'])\n",
        "print('Loaded data from the Kaggle repository')\n",
        "\n",
        "df.head()"
      ],
      "execution_count": null,
      "outputs": []
    },
    {
      "cell_type": "markdown",
      "metadata": {
        "id": "bOVGt4opmp85"
      },
      "source": [
        "Mivel a teljes adathalmazon nagyon sok idő lenne a tanitást elvégezni, és túlságosan régi adatok nagyon kevésbé befolyásolnák a modell végső eredményét a felépítése miatt, ezért csak 5 évnyi adat lesz feldolgozva."
      ]
    },
    {
      "cell_type": "code",
      "metadata": {
        "trusted": true,
        "id": "-tpnBmbDjICO"
      },
      "source": [
        "df = df[df['Date'].str.contains(\"2012\") | df['Date'].str.contains(\"2013\") | df['Date'].str.contains(\"2014\") | df['Date'].str.contains(\"2015\") | df['Date'].str.contains(\"2016\") ]\n",
        "df.head()"
      ],
      "execution_count": null,
      "outputs": []
    },
    {
      "cell_type": "code",
      "metadata": {
        "trusted": true,
        "id": "KpC64Va9jICO"
      },
      "source": [
        "plt.figure(figsize = (18,9))\n",
        "plt.plot(range(df.shape[0]),(df['Low']+df['High'])/2.0)\n",
        "plt.xticks(range(0,df.shape[0],50),df['Date'].loc[::50],rotation=45)\n",
        "plt.xlabel('Date',fontsize=18)\n",
        "plt.ylabel('Mid Price',fontsize=18)\n",
        "plt.show()"
      ],
      "execution_count": null,
      "outputs": []
    },
    {
      "cell_type": "code",
      "metadata": {
        "trusted": true,
        "id": "Pow5bMn1jICP"
      },
      "source": [
        "TEST_INTERVAL = 200\n",
        "TIMESTAMP = 50\n",
        "EPOCH = 200\n",
        "BATCH_SIZE = 32\n",
        "NUM_OF_RUNS = 10"
      ],
      "execution_count": null,
      "outputs": []
    },
    {
      "cell_type": "markdown",
      "metadata": {
        "id": "W1RokGpyngT5"
      },
      "source": [
        "Tanítás és tesztelés során, egy részvény napi ára alatt a napi mediánt fogjuk érteni, azaz a napi legalacsonyabb és napi legmagasabb érték átlagát. \n",
        "\n",
        "Az adathalmazt 2 részre bontjuk: tanító és tesztelő adathalmaz. Az utolsó 200 napi adatot teszteljük le a modell hatékonyságát, minden előtte lévő adat a tanításhoz lesz használva."
      ]
    },
    {
      "cell_type": "code",
      "metadata": {
        "trusted": true,
        "id": "-U7EllkBjICP"
      },
      "source": [
        "high_prices = df.loc[:,'High'].to_numpy()\n",
        "low_prices = df.loc[:,'Low'].to_numpy()\n",
        "mid_prices = (high_prices+low_prices)/2.0\n",
        "\n",
        "print(mid_prices)\n",
        "\n",
        "data_num = len(mid_prices)\n",
        "data_num_train = data_num - TEST_INTERVAL\n",
        "train_data = mid_prices[:data_num_train]\n",
        "test_data = mid_prices[data_num_train-TIMESTAMP:]"
      ],
      "execution_count": null,
      "outputs": []
    },
    {
      "cell_type": "markdown",
      "metadata": {
        "id": "FmI3YFQBoh2c"
      },
      "source": [
        "Standardizáljuk a tesztelő és tanító adathalmaz elemeit. Ennek célja, hogy az adatok elosztása a normál elosztást kövesse, amely könnyeben feldolgozható a neurális hálóm számára."
      ]
    },
    {
      "cell_type": "code",
      "metadata": {
        "trusted": true,
        "id": "8RlkMlotjICQ"
      },
      "source": [
        "sc = MinMaxScaler(feature_range = (0, 1))\n",
        "train_data = train_data.reshape(-1,1)\n",
        "train_data_scaled = sc.fit_transform(train_data)\n"
      ],
      "execution_count": null,
      "outputs": []
    },
    {
      "cell_type": "code",
      "metadata": {
        "trusted": true,
        "id": "s_4ekUi4jICQ"
      },
      "source": [
        "print(train_data_scaled)"
      ],
      "execution_count": null,
      "outputs": []
    },
    {
      "cell_type": "code",
      "metadata": {
        "trusted": true,
        "id": "a5pEibXNjICQ"
      },
      "source": [
        "X_train = []\n",
        "y_train = []\n",
        "for i in range(TIMESTAMP, data_num_train):\n",
        "    X_train.append(train_data_scaled[i-TIMESTAMP:i, 0])\n",
        "    y_train.append(train_data_scaled[i, 0])\n",
        "X_train, y_train = np.array(X_train), np.array(y_train)\n",
        "\n",
        "X_train = np.reshape(X_train, (X_train.shape[0], X_train.shape[1], 1))"
      ],
      "execution_count": null,
      "outputs": []
    },
    {
      "cell_type": "code",
      "metadata": {
        "trusted": true,
        "id": "iM-tLIpnjICR"
      },
      "source": [
        "real_stock_price = test_data[TIMESTAMP:]\n",
        "predicted_stock_prices = np.zeros((NUM_OF_RUNS,TEST_INTERVAL))"
      ],
      "execution_count": null,
      "outputs": []
    },
    {
      "cell_type": "code",
      "metadata": {
        "trusted": true,
        "id": "du_kkfoqjICR"
      },
      "source": [
        "from keras.models import Sequential\n",
        "from keras.layers import Dense\n",
        "from keras.layers import LSTM\n",
        "from keras.layers import Dropout\n",
        "from keras.layers import SimpleRNN\n",
        "from keras.layers import GRU"
      ],
      "execution_count": null,
      "outputs": []
    },
    {
      "cell_type": "markdown",
      "metadata": {
        "id": "a8Z04RpiqVcY"
      },
      "source": [
        "<img src='https://www.researchgate.net/profile/Xiaofeng-Yuan-4/publication/331421650/figure/fig2/AS:771405641695233@1560928845927/The-structure-of-the-LSTM-unit.png'/>\n",
        "\n",
        "\n",
        "Az LSTM (Long Short-Term Memory) egy rekurrens neurális háló, tipikusan mély tanulás során használatos. A fenti ábrán látható az LSTM egy egysége, amelynek három bemenete van: x(t) adott időpillanatbeli bemenet, h(t-1) az adott időpillanatig kiszámolt eredmény (hidden statenak is nevezik), a c(t-1) pedig az előző időpillantig kiszámolt cell state, amely memóriaként szolgál, ehhez adódnak vagy vonódnak ki adatok. A cell state adatait a különböző kapuk befolyásolják, amelyek a következők:\n",
        "\n",
        "\n",
        "*   forget gate: eldönti, hogy a hidden state és az adott időpillantban kapott adatokból mennyit érdemes megtartani\n",
        "*   input gate: a cell state updateolására szolgál. Eldönti, hogy mely adatokat érdemes frissíteni\n",
        "*  output gate: a következő h(t) kiszámolására szolgál\n",
        "\n"
      ]
    },
    {
      "cell_type": "code",
      "metadata": {
        "trusted": true,
        "id": "f6qqLXoEjICR"
      },
      "source": [
        "def create_lstm_model():\n",
        "    model = Sequential()\n",
        "\n",
        "    model.add(LSTM(units = 50, return_sequences = True, input_shape = (X_train.shape[1], 1)))\n",
        "    model.add(Dropout(0.2))\n",
        "\n",
        "    model.add(LSTM(units = 50, return_sequences = True))\n",
        "    model.add(Dropout(0.2))\n",
        "\n",
        "    model.add(LSTM(units = 50, return_sequences = True))\n",
        "    model.add(Dropout(0.2))\n",
        "\n",
        "    model.add(LSTM(units = 50))\n",
        "    model.add(Dropout(0.2))\n",
        "\n",
        "    model.add(Dense(units = 1))\n",
        "\n",
        "    model.summary()\n",
        "    \n",
        "    return model"
      ],
      "execution_count": null,
      "outputs": []
    },
    {
      "cell_type": "code",
      "metadata": {
        "trusted": true,
        "id": "AlBIH3xBjICS"
      },
      "source": [
        "'''\n",
        "def create_rnn_model():\n",
        "    model = Sequential()\n",
        "    model.add(SimpleRNN(32, return_sequences=True))\n",
        "    model.add(SimpleRNN(32, return_sequences=True))\n",
        "    model.add(SimpleRNN(32, return_sequences=True))\n",
        "    model.add(SimpleRNN(32))\n",
        "    model.add(Dense(1))\n",
        "    \n",
        "    return model\n",
        "  '''"
      ],
      "execution_count": null,
      "outputs": []
    },
    {
      "cell_type": "markdown",
      "metadata": {
        "id": "9g-EKYODvNfR"
      },
      "source": [
        "<img src='https://paperswithcode.com/media/methods/780px-Gated_Recurrent_Unit_type_1.svg.png' />\n",
        "\n",
        "A GRU, egy az LSTM-hez hasonlító neurális háló. A különbség az LSTM és a GRU között, hogy a GRU-ban nincs cell state, ez a hidden state része a továbbiakban. A másik különbség az LSTM-hez képest, hogy 3 kapu helyett csak 2 kapuja van:\n",
        "\n",
        "\n",
        "*   update gate (z[t]): az LSTM-beli forget és update gate megfelelője. Eldönti, hogy mely adatok megtartása releváns \n",
        "*   reset gate (r[t]): eldönti, hogy a múltbeli adatokból mennyit felejtsen el a háló\n",
        "\n",
        "Mivel az LSTM és GRU modellt is kipróbálva, nagyobb százalékban hozott a GRU jobb eredményeket, így a továbbiakban a lent látható kódban létrehozott GRU modellt fogjuk használni. Felépítése\n",
        "\n",
        "\n",
        "*   Öt GRU réteg\n",
        "*   ELső négy réteg 50 egységnyi GRU-t tartalmaz\n",
        "*   Utolsó réteg, mely a kimeneti réteg, 1 egységnyi GRU-t tartalmaz\n",
        "*   Túltanulás elkerülése érdekében 0.2-es dropout használunk az első négy rétegen\n",
        "\n",
        "\n",
        "\n"
      ]
    },
    {
      "cell_type": "code",
      "metadata": {
        "trusted": true,
        "id": "27JzmmI4jICS"
      },
      "source": [
        "def create_GRU_model():\n",
        "    regressorGRU = Sequential()\n",
        "    # First GRU layer with Dropout regularisation\n",
        "    regressorGRU.add(GRU(units=50, return_sequences=True, input_shape=(X_train.shape[1],1), activation='tanh'))\n",
        "    regressorGRU.add(Dropout(0.2))\n",
        "    # Second GRU layer\n",
        "    regressorGRU.add(GRU(units=50, return_sequences=True, activation='tanh'))\n",
        "    regressorGRU.add(Dropout(0.2))\n",
        "    \n",
        "    # Third GRU layer\n",
        "    regressorGRU.add(GRU(units=50, return_sequences=True, activation='tanh'))\n",
        "    regressorGRU.add(Dropout(0.2))\n",
        "    # Fourth GRU layer\n",
        "    regressorGRU.add(GRU(units=50, activation='tanh'))\n",
        "    regressorGRU.add(Dropout(0.2))\n",
        "    # The output layer\n",
        "    regressorGRU.add(Dense(units=1))\n",
        "    return regressorGRU"
      ],
      "execution_count": null,
      "outputs": []
    },
    {
      "cell_type": "markdown",
      "metadata": {
        "id": "NV1_7j9vxLaK"
      },
      "source": [
        "Mivel a GRU modell lefutása nem determinisztikus, ezért ahhoz, hogy valós statisztikát tudjunk készíteni az eredményből, minden egyes részvényre többször is lefuttatjuk a modellt. Ennek az értéke a NUM_OF_RUNS konstansban található, melynek 10-es értéket adtunk meg. Loss függvénynek MSE-e használnuk, azaz a valóst értéktől való különbségek négyzetének átlagát.\n",
        "\n",
        "A predicted_stock_price változóban eltároljuk a futás eredményét (azaz a predikciót), ahhoz a következőkben ezt fel tudjuk dolgozni."
      ]
    },
    {
      "cell_type": "code",
      "metadata": {
        "_kg_hide-output": true,
        "trusted": true,
        "id": "Z54vGug3jICT"
      },
      "source": [
        "for i in range(NUM_OF_RUNS):\n",
        "    print(i, \". RUN\")\n",
        "    \n",
        "    model = create_GRU_model()\n",
        "\n",
        "    model.compile(optimizer = 'adam', loss = 'mean_squared_error')\n",
        "\n",
        "    model.fit(X_train, y_train, epochs = EPOCH, batch_size = BATCH_SIZE)\n",
        "    \n",
        "    data_num_test = len(test_data)\n",
        "    test_data = test_data.reshape(-1,1)\n",
        "    test_data_scaled = sc.fit_transform(test_data)\n",
        "    X_test = []\n",
        "    for k in range(TIMESTAMP, data_num_test):\n",
        "        X_test.append(test_data_scaled[k-TIMESTAMP:k, 0])\n",
        "    X_test = np.array(X_test)\n",
        "    X_test = np.reshape(X_test, (X_test.shape[0], X_test.shape[1], 1))\n",
        "\n",
        "    predicted_stock_price = model.predict(X_test)\n",
        "    predicted_stock_price = sc.inverse_transform(predicted_stock_price)\n",
        "    \n",
        "    print(len(predicted_stock_price))\n",
        "    \n",
        "    for j in range(TEST_INTERVAL):\n",
        "        predicted_stock_prices[i][j] = predicted_stock_price[j]"
      ],
      "execution_count": null,
      "outputs": []
    },
    {
      "cell_type": "code",
      "metadata": {
        "trusted": true,
        "id": "L1X-6vcNjICT"
      },
      "source": [
        "#data_num_test = len(test_data)\n",
        "#test_data = test_data.reshape(-1,1)"
      ],
      "execution_count": null,
      "outputs": []
    },
    {
      "cell_type": "code",
      "metadata": {
        "trusted": true,
        "id": "4NXSbO-ojICT"
      },
      "source": [
        "#real_stock_price = test_data[TIMESTAMP:]"
      ],
      "execution_count": null,
      "outputs": []
    },
    {
      "cell_type": "code",
      "metadata": {
        "trusted": true,
        "id": "T2HlsQqyjICU"
      },
      "source": [
        "#test_data_scaled = sc.fit_transform(test_data)"
      ],
      "execution_count": null,
      "outputs": []
    },
    {
      "cell_type": "code",
      "metadata": {
        "trusted": true,
        "id": "jI6jSbf3jICU"
      },
      "source": [
        "'''\n",
        "X_test = []\n",
        "for i in range(TIMESTAMP, data_num_test):\n",
        "    X_test.append(test_data_scaled[i-TIMESTAMP:i, 0])\n",
        "X_test = np.array(X_test)\n",
        "X_test = np.reshape(X_test, (X_test.shape[0], X_test.shape[1], 1))\n",
        "\n",
        "predicted_stock_price = model.predict(X_test)\n",
        "predicted_stock_price = sc.inverse_transform(predicted_stock_price)\n",
        "'''"
      ],
      "execution_count": null,
      "outputs": []
    },
    {
      "cell_type": "code",
      "metadata": {
        "trusted": true,
        "id": "EK3zgOk8jICV"
      },
      "source": [
        "'''\n",
        "plt.plot(real_stock_price, color = 'black', label = 'Stock Price')\n",
        "plt.plot(predicted_stock_price, color = 'green', label = 'Predicted Stock Price')\n",
        "plt.title('Stock Price Prediction')\n",
        "plt.xlabel('Time')\n",
        "plt.ylabel('Stock Price')\n",
        "plt.legend()\n",
        "plt.show()\n",
        "'''"
      ],
      "execution_count": null,
      "outputs": []
    },
    {
      "cell_type": "code",
      "metadata": {
        "trusted": true,
        "id": "-YqjpOfYjICV"
      },
      "source": [
        "'''correct_growth_per_real = 0\n",
        "correct_growth_per_predicted = 0\n",
        "for i in range(1, TEST_INTERVAL):\n",
        "    if(predicted_stock_price[i]>real_stock_price[i-1] and real_stock_price[i]>real_stock_price[i-1]):\n",
        "        correct_growth_per_real += 1\n",
        "    elif(predicted_stock_price[i]<real_stock_price[i-1] and real_stock_price[i]<real_stock_price[i-1]):\n",
        "        correct_growth_per_real += 1\n",
        "    if(predicted_stock_price[i]>predicted_stock_price[i-1] and real_stock_price[i]>real_stock_price[i-1]):\n",
        "        correct_growth_per_predicted +=1\n",
        "    elif(predicted_stock_price[i]<predicted_stock_price[i-1] and real_stock_price[i]<real_stock_price[i-1]):\n",
        "        correct_growth_per_predicted +=1\n",
        "        '''"
      ],
      "execution_count": null,
      "outputs": []
    },
    {
      "cell_type": "code",
      "metadata": {
        "trusted": true,
        "id": "fGaq_94ZjICV"
      },
      "source": [
        "#print(\"Correct grow per real: \", correct_growth_per_real/TEST_INTERVAL)\n",
        "#print(\"Correct grow per predicted: \", correct_growth_per_predicted/TEST_INTERVAL)"
      ],
      "execution_count": null,
      "outputs": []
    },
    {
      "cell_type": "code",
      "metadata": {
        "trusted": true,
        "id": "pWjvAVJijICW"
      },
      "source": [
        "real_stock_price_profit_per_day = []\n",
        "for i in range(1, TEST_INTERVAL):\n",
        "    real_stock_price_profit_per_day.append((real_stock_price[i] - real_stock_price[0])/real_stock_price[0] * 100)\n",
        "    \n",
        "predicted_stock_price_profits_per_day = [[0 for j in range(TEST_INTERVAL)] for i in range(NUM_OF_RUNS)]\n"
      ],
      "execution_count": null,
      "outputs": []
    },
    {
      "cell_type": "code",
      "metadata": {
        "trusted": true,
        "id": "fs-Du6CgjICW"
      },
      "source": [
        "avg_profit = 0"
      ],
      "execution_count": null,
      "outputs": []
    },
    {
      "cell_type": "markdown",
      "metadata": {
        "id": "OLpMHb2B9fyE"
      },
      "source": [
        "A modell kimeneteit lementjük, ahhoz, hogy elemezzük, hogy segítségükkel milyen porfitot tudunk realizálni. A következő notebook (evaluation.ipynb) az eredmények kiértékeléséről fog szólni\n"
      ]
    },
    {
      "cell_type": "code",
      "metadata": {
        "trusted": true,
        "id": "ch3z5kBbjICW"
      },
      "source": [
        "np.savetxt(\"cl_pred.csv\", predicted_stock_prices, delimiter=\",\")"
      ],
      "execution_count": null,
      "outputs": []
    },
    {
      "cell_type": "code",
      "metadata": {
        "trusted": true,
        "id": "M5TwFoExjICW"
      },
      "source": [
        "'''\n",
        "def calculateProfit(diffStock):\n",
        "    all_profit = 0\n",
        "    min_profit = 10000000\n",
        "    max_profit = -10000000\n",
        "    for j in range(NUM_OF_RUNS):\n",
        "        predicted_stock_price = predicted_stock_prices[j]\n",
        "        original_stock_price = real_stock_price[0]\n",
        "\n",
        "        bought_stock_price = real_stock_price[0]\n",
        "        stock_price_at_selling = 0\n",
        "        stock_buys_total = real_stock_price[0]\n",
        "        stock_sells_total = 0\n",
        "        profit = 0\n",
        "\n",
        "        for i in range(1, TEST_INTERVAL):\n",
        "            if(predicted_stock_price[i]>diffStock[i-1]):\n",
        "                if(bought_stock_price==0):\n",
        "                  print(\"Buying at \", i, \" day:\", real_stock_price[i])\n",
        "                  bought_stock_price = real_stock_price[i]\n",
        "                  stock_buys_total = stock_buys_total + real_stock_price[i]\n",
        "            else:\n",
        "                if(bought_stock_price!=0):\n",
        "                  print(\"Selling at \", i, \" day:\", real_stock_price[i], \"     We made:\", real_stock_price[i]-bought_stock_price)\n",
        "                  bought_stock_price = 0\n",
        "                  stock_price_at_selling = real_stock_price[i]\n",
        "                  stock_sells_total = stock_sells_total + real_stock_price[i]\n",
        "            profit = stock_sells_total - stock_buys_total\n",
        "            if(bought_stock_price==0):\n",
        "                predicted_stock_price_profits_per_day[j][i] = (profit)/original_stock_price * 100\n",
        "            else:\n",
        "                predicted_stock_price_profits_per_day[j][i] = (profit+real_stock_price[i])/original_stock_price * 100\n",
        "\n",
        "        print(\"Money spent on buying:\", stock_buys_total)    \n",
        "        print(\"Money received on selling:\", stock_sells_total) \n",
        "        print(\"cash profit:\", profit)\n",
        "        print(\"actual stock price:\", real_stock_price[TEST_INTERVAL-1]) \n",
        "\n",
        "        if(bought_stock_price==0):\n",
        "            print(\"We made \", profit, \" from \", original_stock_price)\n",
        "            act_profit = (profit)/original_stock_price * 100\n",
        "            print(\"Profit:\", act_profit, \"%\")\n",
        "            all_profit = all_profit + act_profit\n",
        "            if(act_profit>max_profit):\n",
        "                max_profit = act_profit\n",
        "            if(act_profit<min_profit):\n",
        "                min_profit = act_profit\n",
        "            print(\"Stock growth:\", real_stock_price[TEST_INTERVAL-1], \" \", (real_stock_price[TEST_INTERVAL-1] - original_stock_price)/original_stock_price * 100, \"%\")\n",
        "        else:\n",
        "            print(\"We made \", profit+real_stock_price[TEST_INTERVAL-1], \" from \", original_stock_price)\n",
        "            act_profit = (profit+real_stock_price[TEST_INTERVAL-1])/original_stock_price * 100\n",
        "            print(\"Profit:\", (profit+real_stock_price[TEST_INTERVAL-1])/original_stock_price * 100, \"%\")\n",
        "            all_profit = all_profit + act_profit\n",
        "            if(act_profit>max_profit):\n",
        "                max_profit = act_profit\n",
        "            if(act_profit<min_profit):\n",
        "                min_profit = act_profit\n",
        "            print(\"Stock growth:\", real_stock_price[TEST_INTERVAL-1], \" \", (real_stock_price[TEST_INTERVAL-1] - original_stock_price)/original_stock_price * 100, \"%\")\n",
        "        print(\" \")\n",
        "        print(\" \")\n",
        "        print(\" \")\n",
        "        print(\" \")\n",
        "        print(\" \")\n",
        "        print(\" \")\n",
        "    avg_profit = all_profit / NUM_OF_RUNS \n",
        "    \n",
        "    print(\"AVG profit:\", avg_profit)\n",
        "    print(\"MAX profit:\", max_profit)\n",
        "    print(\"MIN profit:\", min_profit)\n",
        "'''"
      ],
      "execution_count": null,
      "outputs": []
    },
    {
      "cell_type": "code",
      "metadata": {
        "trusted": true,
        "id": "KGe7A96NjICX"
      },
      "source": [
        ""
      ],
      "execution_count": null,
      "outputs": []
    },
    {
      "cell_type": "code",
      "metadata": {
        "trusted": true,
        "id": "mgrTfi64jICX"
      },
      "source": [
        "'''\n",
        "def calculateProfitUsingAll(diffStock):\n",
        "    STOCK_CAP = 10\n",
        "    STRONG_SELL_MIN = 0\n",
        "    SELL_MIN = 2\n",
        "    STALL_MIN = 4\n",
        "    BUY_MIN = 6\n",
        "    STRONG_BUY_MIN = 8\n",
        "    NORMAL_BUY_SELL = 1\n",
        "    STRONG_BUY_SELL = 3\n",
        "    \n",
        "    bought_stocks = 1\n",
        "    money_spent = real_stock_price[0]\n",
        "    money_received = 0\n",
        "    for i in range(1, TEST_INTERVAL):\n",
        "        BUY_PRED_NUM = 0\n",
        "        for j in range(NUM_OF_RUNS):\n",
        "            predicted_stock_price = predicted_stock_prices[j][i]\n",
        "            if(predicted_stock_price>diffStock[i-1]):\n",
        "                BUY_PRED_NUM = BUY_PRED_NUM + 1\n",
        "        if(BUY_PRED_NUM<SELL_MIN):\n",
        "            if(bought_stocks > 0):\n",
        "                if(bought_stocks > STRONG_BUY_SELL):\n",
        "                    bought_stocks = bought_stocks - 3\n",
        "                    money_received = 3 * real_stock_price[i]\n",
        "                    print(i, \". day: STRONG SELL. We sold 3 stocks. Current stock number:\", bought_stocks)\n",
        "                else:\n",
        "                    bs_temp = bought_stocks\n",
        "                    bought_stocks = bought_stocks - bs_temp\n",
        "                    money_received = bs_temp * real_stock_price[i]\n",
        "                    print(i, \". day: STRONG SELL. We sold \", bs_temp, \" stocks. Current stock number:\", bought_stocks)\n",
        "        elif(BUY_PRED_NUM<STALL_MIN):\n",
        "            if(bought_stocks > 0):\n",
        "                bought_stocks = bought_stocks - 1\n",
        "                money_received = 1 * real_stock_price[i]\n",
        "                print(i, \". day: SELL. We sold 1 stock. Current stock number:\", bought_stocks)\n",
        "        elif(BUY_PRED_NUM<BUY_MIN):\n",
        "            print(i, \". day: STALL. Current stock number:\", bought_stocks)\n",
        "        elif(BUY_PRED_NUM<STRONG_BUY_MIN):\n",
        "            if(bought_stocks < STOCK_CAP):\n",
        "                bought_stocks = bought_stocks + 1\n",
        "                money_spent = 1 * real_stock_price[i]\n",
        "                print(i, \". day: BUY. We bought 1 stock. Current stock number:\", bought_stocks)\n",
        "        else:\n",
        "            if(bought_stocks < STOCK_CAP):\n",
        "                stocks_to_cap = STOCK_CAP - bought_stocks\n",
        "                if(stocks_to_cap < STRONG_BUY_SELL):\n",
        "                    bought_stocks = bought_stocks + stocks_to_cap\n",
        "                    money_spent = stocks_to_cap * real_stock_price[i]\n",
        "                    print(i, \". day: BUY. We bought \", stocks_to_cap, \" stock. Current stock number:\", bought_stocks)\n",
        "                else:\n",
        "                    bought_stocks = bought_stocks + 3\n",
        "                    money_spent = 3 * real_stock_price[i]\n",
        "                    print(i, \". day: STRONG BUY. We bought 3 stock. Current stock number:\", bought_stocks)\n",
        "''' "
      ],
      "execution_count": null,
      "outputs": []
    },
    {
      "cell_type": "code",
      "metadata": {
        "trusted": true,
        "id": "_JPPwIXnjICZ"
      },
      "source": [
        "#print(\"Comparing to predicted stock price:\")\n",
        "#calculateProfit(predicted_stock_price)"
      ],
      "execution_count": null,
      "outputs": []
    },
    {
      "cell_type": "code",
      "metadata": {
        "trusted": true,
        "id": "qZy7CXROjICZ"
      },
      "source": [
        "'''\n",
        "print(\"Comparing to real stock price:\")\n",
        "calculateProfit(real_stock_price)\n",
        "'''"
      ],
      "execution_count": null,
      "outputs": []
    },
    {
      "cell_type": "code",
      "metadata": {
        "trusted": true,
        "id": "OjdO9QgGjICa"
      },
      "source": [
        "'''\n",
        "plt.figure(figsize = (18,9))\n",
        "for i in range(NUM_OF_RUNS):\n",
        "    plt.plot(predicted_stock_price_profits_per_day[i], color = np.random.rand(3,)\n",
        "             , label = 'Stock Price Profit Prediction ' + str(i))\n",
        "plt.plot(real_stock_price_profit_per_day, color = 'black', label = 'Stock Price Profit')\n",
        "plt.title('Stock Price Profit Per Day')\n",
        "plt.xlabel('Time')\n",
        "plt.ylabel('Profit')\n",
        "plt.legend()\n",
        "plt.show()\n",
        "'''"
      ],
      "execution_count": null,
      "outputs": []
    },
    {
      "cell_type": "code",
      "metadata": {
        "trusted": true,
        "id": "TTv-cxWljICa"
      },
      "source": [
        "#calculateProfitUsingAll(real_stock_price)"
      ],
      "execution_count": null,
      "outputs": []
    }
  ]
}