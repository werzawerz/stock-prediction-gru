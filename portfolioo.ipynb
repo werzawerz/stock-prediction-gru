{
  "nbformat": 4,
  "nbformat_minor": 0,
  "metadata": {
    "kernelspec": {
      "language": "python",
      "display_name": "Python 3",
      "name": "python3"
    },
    "language_info": {
      "pygments_lexer": "ipython3",
      "nbconvert_exporter": "python",
      "version": "3.6.4",
      "file_extension": ".py",
      "codemirror_mode": {
        "name": "ipython",
        "version": 3
      },
      "name": "python",
      "mimetype": "text/x-python"
    },
    "colab": {
      "name": "portfolioo.ipynb",
      "provenance": []
    }
  },
  "cells": [
    {
      "cell_type": "markdown",
      "metadata": {
        "id": "TsyaeQtyOc5h"
      },
      "source": [
        "#PORTFÓLIÓ\n",
        "\n",
        "Ezen notebookban portófiliót készítűnk a modellezett predikciók alapján. Összesen 30 részvényen lett futtatva a GRU modell, ezek részvények tickerei a stock_to_choose_from tömbben találhatóak. Azért, hogy a választható részvények halmaza ne ugyanaz legyen minden esetben, ezen 30 közül lesz kiválasztva STOCKS_TO_CHOOSE_FROM számú részvény, amelyek közül minden nap STOCK_TO_INVEST számú részvényegység kerül be a portfólióba.\n",
        "\n",
        "A következő kódrészletek az adatok előkészítéséről szólnak."
      ]
    },
    {
      "cell_type": "code",
      "metadata": {
        "_uuid": "8f2839f25d086af736a60e9eeb907d3b93b6e0e5",
        "_cell_guid": "b1076dfc-b9ad-4769-8c92-a6c4dae69d19",
        "trusted": true,
        "id": "YGgQ7hquMrOF"
      },
      "source": [
        "import numpy as np\n",
        "import matplotlib.pyplot as plt\n",
        "import pandas as pd\n",
        "import os\n",
        "from os import listdir\n",
        "from sklearn.preprocessing import MinMaxScaler\n",
        "import random"
      ],
      "execution_count": null,
      "outputs": []
    },
    {
      "cell_type": "code",
      "metadata": {
        "trusted": true,
        "id": "_am4yYbuMrOQ"
      },
      "source": [
        "STOCKS_TO_CHOOSE = 20"
      ],
      "execution_count": null,
      "outputs": []
    },
    {
      "cell_type": "code",
      "metadata": {
        "trusted": true,
        "id": "_Lt5YKhXMrOR"
      },
      "source": [
        "all_dfs = []\n",
        "stock_path = '../input/price-volume-data-for-all-us-stocks-etfs/Stocks'\n",
        "stock_to_choose_from = ['aapl', 'abb', 'atvi', 'axp', 'cl', 'dis', 'f', 'gm', 'gme', 'goog',\n",
        "                        'has', 'jnj', 'ko', 'mcd', 'mmm', 'msft', 'nflx', 'nke', 'nvda', 'orcl',\n",
        "                        'pep', 'pfe', 'pm', 'sbux', 't', 'tmus', 'tsla', 'ual', 'v', 'wmt']\n",
        "for stock in stock_to_choose_from:\n",
        "    all_dfs.append({\"name\" : stock,\n",
        "    \"data\" : pd.read_csv(os.path.join('../input/price-volume-data-for-all-us-stocks-etfs/Stocks',stock + '.us.txt'),delimiter=',',usecols=['Date','Open','High','Low','Close'])})\n",
        "random.shuffle(all_dfs)\n",
        "all_dfs = all_dfs[:STOCKS_TO_CHOOSE]"
      ],
      "execution_count": null,
      "outputs": []
    },
    {
      "cell_type": "code",
      "metadata": {
        "trusted": true,
        "id": "hULwkFADMrOS"
      },
      "source": [
        "TEST_INTERVAL = 200\n",
        "TIMESTAMP = 50\n",
        "NUM_OF_RUNS = 10"
      ],
      "execution_count": null,
      "outputs": []
    },
    {
      "cell_type": "code",
      "metadata": {
        "trusted": true,
        "id": "kDaKDNffMrOS"
      },
      "source": [
        "test_datas = []\n",
        "real_stock_price_list = []\n",
        "predicted_stock_price_list = []\n",
        "for df_data in all_dfs:\n",
        "    df = df_data[\"data\"]\n",
        "    df = df[df['Date'].str.contains(\"2012\") | df['Date'].str.contains(\"2013\") | df['Date'].str.contains(\"2014\") | df['Date'].str.contains(\"2015\") | df['Date'].str.contains(\"2016\") ]\n",
        "    high_prices = df.loc[:,'High'].to_numpy()\n",
        "    low_prices = df.loc[:,'Low'].to_numpy()\n",
        "    mid_prices = (high_prices+low_prices)/2.0\n",
        "\n",
        "    data_num = len(mid_prices)\n",
        "    data_num_train = data_num - TEST_INTERVAL\n",
        "    train_data = mid_prices[:data_num_train]\n",
        "    test_data = mid_prices[data_num_train-TIMESTAMP:]\n",
        "    test_datas.append(test_data)\n",
        "    \n",
        "    real_stock_price = test_data[TIMESTAMP:]\n",
        "    real_stock_price_list.append({\"name\" : df_data[\"name\"], \"data\" : real_stock_price})\n",
        "    predicted_stock_prices = np.zeros((NUM_OF_RUNS,TEST_INTERVAL))\n",
        "    predicted_stock_price_list.append({\"name\" : df_data[\"name\"], \"data\" :predicted_stock_prices})\n",
        "    "
      ],
      "execution_count": null,
      "outputs": []
    },
    {
      "cell_type": "code",
      "metadata": {
        "trusted": true,
        "id": "VMQcEqKwMrOU"
      },
      "source": [
        "real_stock_price_profit_per_day_list = []\n",
        "predicted_stock_price_profit_per_day_list = []\n",
        "profits = 0\n",
        "for real_stock_price in real_stock_price_list:\n",
        "    real_stock_price_profit_per_day = []\n",
        "    real_stock_price = real_stock_price[\"data\"]\n",
        "    for i in range(1, TEST_INTERVAL):\n",
        "        real_stock_price_profit_per_day.append((real_stock_price[i] - real_stock_price[0])/real_stock_price[0] * 100)\n",
        "\n",
        "    predicted_stock_price_profits_per_day = [[0 for j in range(TEST_INTERVAL)] for i in range(NUM_OF_RUNS)]\n",
        "    real_stock_price_profit_per_day_list.append(real_stock_price_profit_per_day)\n",
        "    predicted_stock_price_profit_per_day_list.append(predicted_stock_price_profits_per_day)\n",
        "    profits = profits + real_stock_price_profit_per_day[TEST_INTERVAL - 2]\n",
        " "
      ],
      "execution_count": null,
      "outputs": []
    },
    {
      "cell_type": "code",
      "metadata": {
        "trusted": true,
        "id": "dA024LW2MrOU"
      },
      "source": [
        "for predicted_stock_price in predicted_stock_price_list:\n",
        "    predicted_stock_price[\"data\"] = np.loadtxt(os.path.join('../input/stock-predictions-gru',predicted_stock_price[\"name\"] + '_pred.csv'), delimiter=\",\")"
      ],
      "execution_count": null,
      "outputs": []
    },
    {
      "cell_type": "code",
      "metadata": {
        "trusted": true,
        "id": "VPvewxoUMrOV"
      },
      "source": [
        "for all_df in all_dfs:\n",
        "    print(all_df['name'], end =\" \")"
      ],
      "execution_count": null,
      "outputs": []
    },
    {
      "cell_type": "code",
      "metadata": {
        "trusted": true,
        "id": "3Raca2wVMrOV"
      },
      "source": [
        "all_stock_num = len(predicted_stock_price_list)\n",
        "STOCKS_TO_INVEST = 12"
      ],
      "execution_count": null,
      "outputs": []
    },
    {
      "cell_type": "code",
      "metadata": {
        "trusted": true,
        "id": "EiLUvEIEMrOW"
      },
      "source": [
        "def calculatePortofolio(real_stock_price_list):\n",
        "    columns = []\n",
        "    for real_stock_price in real_stock_price_list:\n",
        "        columns.append(real_stock_price[\"name\"])\n",
        "    portofolio_df = pd.DataFrame([], columns = columns)\n",
        "    for i in range(1, TEST_INTERVAL):\n",
        "        row = []\n",
        "        for stock_idx in range(0, len(predicted_stock_price_list)):\n",
        "            diffStock = real_stock_price_list[stock_idx][\"data\"]\n",
        "            BUY_PRED_NUM = 0\n",
        "            for j in range(NUM_OF_RUNS):\n",
        "                predicted_stock_price = predicted_stock_price_list[stock_idx][\"data\"][j][i]\n",
        "                if(predicted_stock_price>diffStock[i-1]):\n",
        "                    BUY_PRED_NUM = BUY_PRED_NUM + 1\n",
        "            row.append(BUY_PRED_NUM)\n",
        "        df_row = pd. Series(row, index = portofolio_df.columns)\n",
        "        #print(df_row)\n",
        "        portofolio_df = portofolio_df.append(df_row, ignore_index=True)\n",
        "    \n",
        "    return portofolio_df"
      ],
      "execution_count": null,
      "outputs": []
    },
    {
      "cell_type": "markdown",
      "metadata": {
        "id": "-YsRS__rPeDo"
      },
      "source": [
        "#PORTFÓLIÓ KÉSZÍTÉS\n",
        "\n",
        "A portfólió készítést az egyes modellek összegzett predikciói alapján végezzük el. Minden napra kiválasztunk a STOCK_TO_CHOOSE_FROM számú részvény közül STOCKS_TO_INVEST-et, azokat amelyek a 10 modell közül, a legtöbb szerint nőni fognak. A top_stocks tömb tárolja, hogy mely részvényeknek a legnagyobb az esélye, hogy nőjjön. Ha nincs ilyen típusú részvény a jelenlegi részvényeink között akkor veszünk, ha van, akkor megtartjuk. Ha egy részvény, amelybe jelenleg van befektetésünk, kikerül a top_stocks tömbből, eladjuk.\n",
        "\n",
        "Ha a paraméterben lévő weighted paraméter értéke False, akkor minden top_stocks-ban lévő részvényből ugyanannyit vásárolunk, ha ezen paraméter értéke True, akkor arányosan vásárolunk, annak függvényében, hogy hány modell prediktál növekedést (tehát, ha például a 10 modellből 8 prediktál növekedést 8/10 egységnyi részvényünk kell legyen összesen az adott részvényből). Többszöri futtatás, próbálás után, arra a következtetésre jutottam, hogy a súlyozás gyengíti az eredményességet, így ez nincs részletesen dokumentálva.\n",
        "\n",
        "Az így léterhozott portfólió tipikusan akkor ér el jobb eredményeket a valódi növekedésnél, ha az összes részvénynek nem több mint 50%-ákat vesszük be a portfólió halmazba, és a valódi növekedés, nem jelentős (10% alatt van). Ezeket az eredményeket az alábbi ábrák is reprezentálják:\n",
        "\n",
        "**STOCKS_TO_INVEST=3**\n",
        "\n",
        "<a href=\"https://imgbb.com/\"><img src=\"https://i.ibb.co/WBPgd7Z/image.png\" alt=\"image\" border=\"0\"></a><br /><a target='_blank' href='https://imgbb.com/'>image uploader</a><br />\n",
        "\n",
        "**STOCKS_TO_INVEST=5**\n",
        "\n",
        "<a href=\"https://imgbb.com/\"><img src=\"https://i.ibb.co/M8159Pb/image.png\" alt=\"image\" border=\"0\"></a>\n",
        "\n",
        "Végső soron azt a következtetést tudjuk levonnni, hogy mint az evaluations.ipynb-be bemutatott módszerek, mint a portólió generálásnál alkalamzott módszerekkel, egy konzervatív módszert dolgoztunk ki, mellyel (a tesztelt adatok alapján) kissebb az esély a veszteségre.\n"
      ]
    },
    {
      "cell_type": "code",
      "metadata": {
        "trusted": true,
        "id": "VyuLO6fkMrOW"
      },
      "source": [
        "def calculateProfitPortofolio(df, weighted):\n",
        "    prev_buy_dates = np.zeros(all_stock_num)\n",
        "    diffs = 0\n",
        "    #for weighted case\n",
        "    profits_per_stock = np.zeros(all_stock_num)\n",
        "    num_of_bought_stocks = np.zeros(all_stock_num)\n",
        "    for day in range(1, TEST_INTERVAL):\n",
        "        predic_list = df.iloc[day-1]\n",
        "        top_preds = np.zeros(STOCKS_TO_INVEST)\n",
        "        top_stocks = np.empty(STOCKS_TO_INVEST,dtype=\"<U10\")\n",
        "        #for unweighted case\n",
        "        buy_dates = np.zeros(all_stock_num)\n",
        "        for stock_idx in range(all_stock_num):\n",
        "            top_preds_idx = STOCKS_TO_INVEST - 1\n",
        "            while(predic_list[stock_idx]>top_preds[top_preds_idx] and top_preds_idx>-1):\n",
        "                top_preds_idx = top_preds_idx - 1\n",
        "            if(top_preds_idx<STOCKS_TO_INVEST-1):\n",
        "                for shift_idx in range(STOCKS_TO_INVEST-2, top_preds_idx, -1):\n",
        "                    top_preds[shift_idx + 1] = top_preds[shift_idx]\n",
        "                    top_stocks[shift_idx + 1] = top_stocks[shift_idx]\n",
        "                top_preds[top_preds_idx+1] = predic_list[stock_idx]\n",
        "                top_stocks[top_preds_idx+1] = df.columns[stock_idx]\n",
        "        if(not weighted):    \n",
        "            for stock_idx in range(all_stock_num):\n",
        "                if(df.columns[stock_idx] in top_stocks):\n",
        "                    if(prev_buy_dates[stock_idx] == 0):\n",
        "                        buy_dates[stock_idx] = day\n",
        "                    else:\n",
        "                        buy_dates[stock_idx] = prev_buy_dates[stock_idx]\n",
        "                else:\n",
        "                    if(not prev_buy_dates[stock_idx] == 0):\n",
        "                        prev_buy_date = int(prev_buy_dates[stock_idx])\n",
        "                        current_value = real_stock_price_list[stock_idx][\"data\"][day]\n",
        "                        buy_value = real_stock_price_list[stock_idx][\"data\"][prev_buy_date]\n",
        "                        diff = ((current_value / buy_value) - 1) * 100\n",
        "                        diffs = diffs + diff\n",
        "                    buy_dates[stock_idx] = 0\n",
        "            prev_buy_dates = buy_dates\n",
        "        else:\n",
        "            for stock_idx in range(all_stock_num):\n",
        "                if(df.columns[stock_idx] in top_stocks): \n",
        "                    tops_idx = np.where(top_stocks == df.columns[stock_idx])\n",
        "                    num_of_stocks_to_have = top_preds[tops_idx]\n",
        "                    profits_per_stock[stock_idx] = profits_per_stock[stock_idx] + (num_of_bought_stocks[stock_idx] - num_of_stocks_to_have)*real_stock_price_list[stock_idx][\"data\"][day]\n",
        "                    num_of_bought_stocks[stock_idx] = num_of_stocks_to_have\n",
        "                else:\n",
        "                    #print(profits_per_stock[stock_idx])\n",
        "                    #print(num_of_bought_stocks[stock_idx]*real_stock_price_list[stock_idx][\"data\"][day])\n",
        "                    profits_per_stock[stock_idx] = profits_per_stock[stock_idx] + num_of_bought_stocks[stock_idx]*real_stock_price_list[stock_idx][\"data\"][day]\n",
        "                    num_of_bought_stocks[stock_idx] = 0\n",
        "                    \n",
        "        \n",
        "        #print(day)\n",
        "        #print(predic_list)\n",
        "        #print(top_preds)\n",
        "        #print(top_stocks)\n",
        "        #if(weighted):\n",
        "        #    print(num_of_bought_stocks)\n",
        "        #    print(profits_per_stock)\n",
        "    if(weighted):\n",
        "        for stock_idx in range(all_stock_num):\n",
        "            profits_per_stock[stock_idx] = profits_per_stock[stock_idx] + num_of_bought_stocks[stock_idx]*real_stock_price_list[stock_idx][\"data\"][TEST_INTERVAL-1]\n",
        "            #print(profits_per_stock[stock_idx])\n",
        "            #print(real_stock_price_list[stock_idx][\"data\"][0])\n",
        "            diff = (profits_per_stock[stock_idx] / real_stock_price_list[stock_idx][\"data\"][0]) * 100 / 10\n",
        "            diffs = diffs +  diff\n",
        "    print(diffs/STOCKS_TO_INVEST)"
      ],
      "execution_count": null,
      "outputs": []
    },
    {
      "cell_type": "code",
      "metadata": {
        "trusted": true,
        "id": "W7mIWV3CMrOZ"
      },
      "source": [
        "portofolio_df = calculatePortofolio(real_stock_price_list)"
      ],
      "execution_count": null,
      "outputs": []
    },
    {
      "cell_type": "code",
      "metadata": {
        "trusted": true,
        "id": "ENz5T2JWMrOZ"
      },
      "source": [
        "calculateProfitPortofolio(portofolio_df, False)"
      ],
      "execution_count": null,
      "outputs": []
    },
    {
      "cell_type": "code",
      "metadata": {
        "trusted": true,
        "id": "fzlRDYNAMrOZ"
      },
      "source": [
        "calculateProfitPortofolio(portofolio_df, True)"
      ],
      "execution_count": null,
      "outputs": []
    },
    {
      "cell_type": "code",
      "metadata": {
        "trusted": true,
        "id": "KLIsYCEhMrOa"
      },
      "source": [
        "profits/all_stock_num"
      ],
      "execution_count": null,
      "outputs": []
    }
  ]
}